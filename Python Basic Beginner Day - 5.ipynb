{
 "cells": [
  {
   "cell_type": "markdown",
   "metadata": {},
   "source": [
    "# **Python Beginner Day 5**\n",
    "\n",
    "``3 questions``"
   ]
  },
  {
   "cell_type": "markdown",
   "metadata": {},
   "source": [
    "**Exercise 11:**\n",
    "-  Write a Program to extract each digit from an integer in the reverse order.\n",
    "- For example, If the given int is 7536, the output shall be “6 3 5 7“, with a space separating the digits."
   ]
  },
  {
   "cell_type": "code",
   "execution_count": 23,
   "metadata": {},
   "outputs": [],
   "source": [
    "def reverse_order(n):\n",
    "    # converting ``int`` type into ``str`` to reverse the numbers (n)\n",
    "    i = str(n)\n",
    "    # reversing the number\n",
    "    reverse = i[::-1]\n",
    "    # now , converting reversed number into int again\n",
    "    reversed = int(reverse)\n",
    "    # returing the reverse number finally\n",
    "    return reversed"
   ]
  },
  {
   "cell_type": "code",
   "execution_count": 25,
   "metadata": {},
   "outputs": [
    {
     "data": {
      "text/plain": [
       "6357"
      ]
     },
     "execution_count": 25,
     "metadata": {},
     "output_type": "execute_result"
    }
   ],
   "source": [
    "reverse_order(7536)"
   ]
  },
  {
   "cell_type": "code",
   "execution_count": 2,
   "metadata": {},
   "outputs": [
    {
     "name": "stdout",
     "output_type": "stream",
     "text": [
      "6357"
     ]
    }
   ],
   "source": [
    "# or\n",
    "# visualize in python tutor\n",
    "number = 7536\n",
    "\n",
    "while number > 0:\n",
    "    #to get the last digit\n",
    "    digit = number % 10 \n",
    "    # now remove the last digit and repeat the loop\n",
    "    number = number // 10\n",
    "    print(digit,end=\"\")"
   ]
  },
  {
   "cell_type": "markdown",
   "metadata": {},
   "source": [
    "**Exercise 12:**\n",
    "- Calculate income tax for the given income by adhering to the below rules\n",
    "\n",
    "![Alt text](../../../../../c:/Users/amitt/OneDrive/Desktop/tax.png)\n",
    "\n",
    "\n",
    "\n",
    "- ``Expected Out:``\n",
    "\n",
    "**For example, suppose the taxable income is 45000 the income tax payable is**\n",
    "\n",
    "10000*0% + 10000*10%  + 25000*20% = $6000."
   ]
  },
  {
   "cell_type": "code",
   "execution_count": 35,
   "metadata": {},
   "outputs": [],
   "source": [
    "def tax(n):\n",
    "    if n > 10000:\n",
    "        result = 10000\n",
    "        first_tax = result*0\n",
    "        n = n - result #sub 10000 from income\n",
    "        if n > 10000:\n",
    "            second_tax = result * 10/100\n",
    "            n = n - result\n",
    "            third_tax = n * 20/100\n",
    "            result = first_tax + second_tax + third_tax\n",
    "            return \"income tax to be paid by you ${}\".format(round(result)) \n",
    "    else:\n",
    "        return \"Don't need to pay the income tax \""
   ]
  },
  {
   "cell_type": "code",
   "execution_count": 41,
   "metadata": {},
   "outputs": [
    {
     "data": {
      "text/plain": [
       "'income tax to be paid by you $7000'"
      ]
     },
     "execution_count": 41,
     "metadata": {},
     "output_type": "execute_result"
    }
   ],
   "source": [
    "tax(50000)"
   ]
  },
  {
   "cell_type": "code",
   "execution_count": 42,
   "metadata": {},
   "outputs": [
    {
     "name": "stdout",
     "output_type": "stream",
     "text": [
      "Given income 50000\n",
      "Total tax to pay is 7000.0\n"
     ]
    }
   ],
   "source": [
    "# or \n",
    "# optimized\n",
    "income = 50000\n",
    "tax_payable = 0\n",
    "print(\"Given income\", income)\n",
    "\n",
    "if income <= 10000:\n",
    "    tax_payable = 0\n",
    "elif income <= 20000:\n",
    "    # no tax on first 10,000\n",
    "    x = income - 10000\n",
    "    # 10% tax\n",
    "    tax_payable = x * 10 / 100\n",
    "else:\n",
    "    # first 10,000\n",
    "    tax_payable = 0\n",
    "\n",
    "    # next 10,000 10% tax\n",
    "    tax_payable = 10000 * 10 / 100\n",
    "\n",
    "    # remaining 20%tax\n",
    "    tax_payable += (income - 20000) * 20 / 100\n",
    "\n",
    "print(\"Total tax to pay is\", tax_payable)"
   ]
  },
  {
   "cell_type": "markdown",
   "metadata": {},
   "source": [
    "**Exercise 13:** \n",
    "- Print multiplication table form 1 to 10\n",
    "\n",
    "**Expected Output:**\n",
    "\n",
    "![Alt text](../../../../../c:/Users/amitt/OneDrive/Desktop/mul.png)"
   ]
  },
  {
   "cell_type": "code",
   "execution_count": 81,
   "metadata": {},
   "outputs": [
    {
     "name": "stdout",
     "output_type": "stream",
     "text": [
      "1 2 3 4 5 6 7 8 9 10 \t\t\n",
      "2 4 6 8 10 12 14 16 18 20 \t\t\n",
      "3 6 9 12 15 18 21 24 27 30 \t\t\n",
      "4 8 12 16 20 24 28 32 36 40 \t\t\n",
      "5 10 15 20 25 30 35 40 45 50 \t\t\n",
      "6 12 18 24 30 36 42 48 54 60 \t\t\n",
      "7 14 21 28 35 42 49 56 63 70 \t\t\n",
      "8 16 24 32 40 48 56 64 72 80 \t\t\n",
      "9 18 27 36 45 54 63 72 81 90 \t\t\n",
      "10 20 30 40 50 60 70 80 90 100 \t\t\n"
     ]
    }
   ],
   "source": [
    "for i in range(1,11):\n",
    "    for j in range(1,11):#for multplication in wider way (ie. how many values\n",
    "        #want to multiply in specific table).\n",
    "        print(i*j,end=\" \")\n",
    "    print(\"\\t\\t\")       "
   ]
  },
  {
   "cell_type": "code",
   "execution_count": 97,
   "metadata": {},
   "outputs": [
    {
     "data": {
      "text/plain": [
       "(3, 3, 3, 3)"
      ]
     },
     "execution_count": 97,
     "metadata": {},
     "output_type": "execute_result"
    }
   ],
   "source": [
    "#Pattern want to print \n",
    "#Quick revision\n",
    "1,1\n",
    "2,2,2\n",
    "3,3,3,3"
   ]
  },
  {
   "cell_type": "code",
   "execution_count": 102,
   "metadata": {},
   "outputs": [
    {
     "name": "stdout",
     "output_type": "stream",
     "text": [
      "1 1 \t\t\n",
      "2 2 2 \t\t\n",
      "3 3 3 3 \t\t\n",
      "4 4 4 4 4 \t\t\n",
      "5 5 5 5 5 5 \t\t\n",
      "6 6 6 6 6 6 6 \t\t\n"
     ]
    }
   ],
   "source": [
    "for i in range(1,7):\n",
    "    for j in range(i+1):\n",
    "        print(i,end=\" \")\n",
    "    print(\"\\t\\t\")"
   ]
  },
  {
   "cell_type": "markdown",
   "metadata": {},
   "source": [
    "**Exercise 14:**\n",
    "-  Print downward Half-Pyramid Pattern with Star (asterisk)"
   ]
  },
  {
   "cell_type": "code",
   "execution_count": 114,
   "metadata": {},
   "outputs": [
    {
     "name": "stdout",
     "output_type": "stream",
     "text": [
      "***** \t\t\n",
      "**** \t\t\n",
      "*** \t\t\n",
      "** \t\t\n",
      "* \t\t\n"
     ]
    }
   ],
   "source": [
    "# * * * * *  \n",
    "# * * * *  \n",
    "# * * *  \n",
    "# * *  \n",
    "# *\n",
    "\n",
    "for i in range(5,0,-1):\n",
    "    print(\"*\"*i,end=\"\")\n",
    "    print(\"\\t\\t\")    "
   ]
  },
  {
   "cell_type": "markdown",
   "metadata": {},
   "source": [
    "``or``\n",
    "**Most Opimized way**"
   ]
  },
  {
   "cell_type": "code",
   "execution_count": 127,
   "metadata": {},
   "outputs": [
    {
     "name": "stdout",
     "output_type": "stream",
     "text": [
      "*  *  *  *  *   \n",
      "*  *  *  *   \n",
      "*  *  *   \n",
      "*  *   \n",
      "*   \n",
      " \n"
     ]
    }
   ],
   "source": [
    "for i in range(6,0,-1):\n",
    "    for j in range(0,i-1):\n",
    "        print(\"*\",end=\"  \")\n",
    "    print(\" \")    "
   ]
  },
  {
   "cell_type": "markdown",
   "metadata": {},
   "source": [
    "# Done With Day- 5"
   ]
  }
 ],
 "metadata": {
  "kernelspec": {
   "display_name": "Python 3.8.8 ('base')",
   "language": "python",
   "name": "python3"
  },
  "language_info": {
   "codemirror_mode": {
    "name": "ipython",
    "version": 3
   },
   "file_extension": ".py",
   "mimetype": "text/x-python",
   "name": "python",
   "nbconvert_exporter": "python",
   "pygments_lexer": "ipython3",
   "version": "3.8.8"
  },
  "orig_nbformat": 4,
  "vscode": {
   "interpreter": {
    "hash": "ad2bdc8ecc057115af97d19610ffacc2b4e99fae6737bb82f5d7fb13d2f2c186"
   }
  }
 },
 "nbformat": 4,
 "nbformat_minor": 2
}
