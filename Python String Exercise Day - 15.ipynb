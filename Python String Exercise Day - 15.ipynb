{
 "cells": [
  {
   "attachments": {},
   "cell_type": "markdown",
   "metadata": {},
   "source": [
    "# **Python String Exercise Day - 15**"
   ]
  },
  {
   "attachments": {},
   "cell_type": "markdown",
   "metadata": {},
   "source": [
    "**Exercise 8:**\n",
    "- Find all occurrences of a substring in a given string by ignoring the case\n",
    "\n",
    "- Write a program to find all occurrences of “USA” in a given string ignoring the case.\n",
    "\n",
    "**Given:**\n",
    "\n",
    "- str1 = ``\"Welcome to USA. usa awesome, isn't it?\"``\n",
    "\n",
    "***Expected Outcome:***\n",
    "\n",
    "- The USA count is: 2\n",
    "\n",
    "\n",
    "**Hint is ``count()``**"
   ]
  },
  {
   "cell_type": "code",
   "execution_count": 54,
   "metadata": {},
   "outputs": [
    {
     "name": "stdout",
     "output_type": "stream",
     "text": [
      "The USA count is :  2\n"
     ]
    }
   ],
   "source": [
    "# Given str\n",
    "\n",
    "str1 = \"Welcome to USA. usa awesome, isn't it?\"\n",
    "sub_string = \"USA\"\n",
    "\n",
    "\n",
    "# lower() all the string \n",
    "# so that data is in proper format\n",
    "\n",
    "occurence_of = sub_string.lower()\n",
    "main_str = str1.lower()\n",
    "\n",
    "# last step use count() function\n",
    "# to count the occurence of string value i.e., \"USA\"\n",
    "\n",
    "n = main_str.count(occurence_of)\n",
    "print(\"The USA count is : \",n)"
   ]
  },
  {
   "attachments": {},
   "cell_type": "markdown",
   "metadata": {},
   "source": [
    "**Exercise 9:**\n",
    "- Calculate the sum and average of the digits present in a string\n",
    "- Given a string s1, write a program to return the sum \n",
    "- and average of the digits that appear in the string, ignoring all other characters.\n",
    "\n",
    "**Given:**\n",
    "\n",
    "- str1 = \"PYnative29@#8496\"\n",
    "\n",
    "***Expected Outcome:***\n",
    "\n",
    "**Sum is: 38 Average is**  6.333333333333333"
   ]
  },
  {
   "cell_type": "code",
   "execution_count": 12,
   "metadata": {},
   "outputs": [
    {
     "name": "stdout",
     "output_type": "stream",
     "text": [
      "The sum is : 38 and average is : 6.333333333333333 \n"
     ]
    }
   ],
   "source": [
    "str1 = \"PYnative29@#8496\"\n",
    "\n",
    "# to find avg\n",
    "count = 0\n",
    "# To find sum  \n",
    "sum = 0\n",
    "for i in str1:\n",
    "\n",
    "    if i.isdigit():\n",
    "        c = int(i)\n",
    "        sum = sum + c\n",
    "        count += 1\n",
    "    \n",
    "\n",
    "# main step or last step\n",
    "average = sum / count\n",
    "print(\"The sum is : {} and average is : {} \".format(sum,average))"
   ]
  },
  {
   "attachments": {},
   "cell_type": "markdown",
   "metadata": {},
   "source": [
    "**``with regular expression``**\n"
   ]
  },
  {
   "cell_type": "code",
   "execution_count": 22,
   "metadata": {},
   "outputs": [
    {
     "name": "stdout",
     "output_type": "stream",
     "text": [
      "Digits: [2, 9, 8, 4, 9, 6]\n"
     ]
    },
    {
     "ename": "TypeError",
     "evalue": "'int' object is not callable",
     "output_type": "error",
     "traceback": [
      "\u001b[1;31m---------------------------------------------------------------------------\u001b[0m",
      "\u001b[1;31mTypeError\u001b[0m                                 Traceback (most recent call last)",
      "\u001b[1;32mc:\\Users\\amitt\\OneDrive\\Desktop\\Python String Exercise Day - 15.ipynb Cell 6\u001b[0m in \u001b[0;36m<cell line: 8>\u001b[1;34m()\u001b[0m\n\u001b[0;32m      <a href='vscode-notebook-cell:/c%3A/Users/amitt/OneDrive/Desktop/Python%20String%20Exercise%20Day%20-%2015.ipynb#X13sZmlsZQ%3D%3D?line=4'>5</a>\u001b[0m \u001b[39mprint\u001b[39m(\u001b[39m'\u001b[39m\u001b[39mDigits:\u001b[39m\u001b[39m'\u001b[39m, digit_list)\n\u001b[0;32m      <a href='vscode-notebook-cell:/c%3A/Users/amitt/OneDrive/Desktop/Python%20String%20Exercise%20Day%20-%2015.ipynb#X13sZmlsZQ%3D%3D?line=6'>7</a>\u001b[0m \u001b[39m# use the built-in function sum\u001b[39;00m\n\u001b[1;32m----> <a href='vscode-notebook-cell:/c%3A/Users/amitt/OneDrive/Desktop/Python%20String%20Exercise%20Day%20-%2015.ipynb#X13sZmlsZQ%3D%3D?line=7'>8</a>\u001b[0m total \u001b[39m=\u001b[39m \u001b[39msum\u001b[39;49m(digit_list)\n\u001b[0;32m     <a href='vscode-notebook-cell:/c%3A/Users/amitt/OneDrive/Desktop/Python%20String%20Exercise%20Day%20-%2015.ipynb#X13sZmlsZQ%3D%3D?line=9'>10</a>\u001b[0m \u001b[39m# average = sum / count of digits\u001b[39;00m\n\u001b[0;32m     <a href='vscode-notebook-cell:/c%3A/Users/amitt/OneDrive/Desktop/Python%20String%20Exercise%20Day%20-%2015.ipynb#X13sZmlsZQ%3D%3D?line=10'>11</a>\u001b[0m avg \u001b[39m=\u001b[39m total \u001b[39m/\u001b[39m \u001b[39mlen\u001b[39m(digit_list)\n",
      "\u001b[1;31mTypeError\u001b[0m: 'int' object is not callable"
     ]
    }
   ],
   "source": [
    "import re\n",
    "\n",
    "input_str = \"PYnative29@#8496\"\n",
    "digit_list = [int(num) for num in re.findall(r'\\d', input_str)]\n",
    "print('Digits:', digit_list)\n",
    "\n",
    "# use the built-in function sum\n",
    "total = sum(digit_list)\n",
    "\n",
    "# average = sum / count of digits\n",
    "avg = total / len(digit_list)\n",
    "print(\"Sum is:\", total, \"Average is \", avg)"
   ]
  },
  {
   "attachments": {},
   "cell_type": "markdown",
   "metadata": {},
   "source": [
    "**Exercise 10:**\n",
    "- Write a program to count occurrences of all characters within a string\n",
    "\n",
    "**Given:**\n",
    "\n",
    "- str1 = \"Apple\"\n",
    "\n",
    "***Expected Outcome:***\n",
    "\n",
    "``{'A': 1, 'p': 2, 'l': 1, 'e': 1}``"
   ]
  },
  {
   "cell_type": "code",
   "execution_count": 19,
   "metadata": {},
   "outputs": [
    {
     "name": "stdout",
     "output_type": "stream",
     "text": [
      "{'A': 1, 'p': 2, 'l': 1, 'e': 1}\n"
     ]
    }
   ],
   "source": [
    "str1 = \"Apple\"\n",
    "\n",
    "#empyt dictionary\n",
    "dict_ = {}\n",
    "\n",
    "for char in str1:\n",
    "    count = str1.count(char)\n",
    "    # dict_[key] = value\n",
    "    # dict_[\"A\" or \"p\" or \"l\" or \"e\"] = values\n",
    "    dict_[char] = count\n",
    "print(dict_)"
   ]
  },
  {
   "attachments": {},
   "cell_type": "markdown",
   "metadata": {},
   "source": [
    "**Exercise 11:**\n",
    "- Reverse a given string\n",
    "\n",
    "**Given:**\n",
    "\n",
    "- str1 = \"PYnative\"\n",
    "\n",
    "***Expected Output:***\n",
    "\n",
    "``evitanYP``"
   ]
  },
  {
   "cell_type": "code",
   "execution_count": 22,
   "metadata": {},
   "outputs": [
    {
     "data": {
      "text/plain": [
       "'evitanYP'"
      ]
     },
     "execution_count": 22,
     "metadata": {},
     "output_type": "execute_result"
    }
   ],
   "source": [
    "str1 = \"PYnative\"\n",
    "str1[::-1]"
   ]
  },
  {
   "cell_type": "code",
   "execution_count": 27,
   "metadata": {},
   "outputs": [
    {
     "name": "stdout",
     "output_type": "stream",
     "text": [
      "original string :PYnative\n",
      "using reversed() function\n",
      "reversed string is : evitanYP\n"
     ]
    }
   ],
   "source": [
    "# or using built in function reversed()\n",
    "str1 = \"PYnative\"\n",
    "print(\"original string :{}\".format(str1))\n",
    "\n",
    "print(\"using reversed() function\")\n",
    "\n",
    "str2 = \"\".join(reversed(str1))\n",
    "\n",
    "print(\"reversed string is : {}\".format(str2))"
   ]
  }
 ],
 "metadata": {
  "kernelspec": {
   "display_name": "Python 3",
   "language": "python",
   "name": "python3"
  },
  "language_info": {
   "codemirror_mode": {
    "name": "ipython",
    "version": 3
   },
   "file_extension": ".py",
   "mimetype": "text/x-python",
   "name": "python",
   "nbconvert_exporter": "python",
   "pygments_lexer": "ipython3",
   "version": "3.10.0"
  },
  "orig_nbformat": 4,
  "vscode": {
   "interpreter": {
    "hash": "26de051ba29f2982a8de78e945f0abaf191376122a1563185a90213a26c5da77"
   }
  }
 },
 "nbformat": 4,
 "nbformat_minor": 2
}
