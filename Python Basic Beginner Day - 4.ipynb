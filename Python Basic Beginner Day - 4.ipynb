{
 "cells": [
  {
   "cell_type": "markdown",
   "metadata": {},
   "source": [
    "# Python Basic Beginner Day - 4"
   ]
  },
  {
   "cell_type": "markdown",
   "metadata": {},
   "source": [
    "**Exercise 9:** \n",
    "- Check Palindrome Number\n",
    "- Write a program to check if the given number is a palindrome number.\n",
    "\n",
    "- A palindrome number is a number that is same after reverse. For \n",
    "- example 545, is the palindrome numbers"
   ]
  },
  {
   "cell_type": "code",
   "execution_count": 84,
   "metadata": {},
   "outputs": [],
   "source": [
    "\n",
    "def check_palin(n):\n",
    "    if n > 0:\n",
    "        t = str(n)\n",
    "        reversed = t[::-1]\n",
    "        int_reversed = int(reversed)\n",
    "\n",
    "        if int_reversed == int(n):\n",
    "            print(\"It's Palindrome \")\n",
    "        else:\n",
    "            print(\"Sorry it's not Palindrome \")    "
   ]
  },
  {
   "cell_type": "code",
   "execution_count": 85,
   "metadata": {},
   "outputs": [
    {
     "name": "stdout",
     "output_type": "stream",
     "text": [
      "It's Palindrome \n"
     ]
    }
   ],
   "source": [
    "check_palin(545)"
   ]
  },
  {
   "cell_type": "markdown",
   "metadata": {},
   "source": [
    "**Exercise 10:**\n",
    "- Create a new list from a two list using the following condition\n",
    "- Given a two list of numbers, write a program to create a new list \n",
    "- such that the new list should contain odd numbers from the first     list and even numbers from the second list."
   ]
  },
  {
   "cell_type": "code",
   "execution_count": 148,
   "metadata": {},
   "outputs": [],
   "source": [
    "def odd_even(n1,n2):\n",
    "    l = []\n",
    "    for i in n1:\n",
    "        if i % 2 != 0:\n",
    "            l.append(i)\n",
    "\n",
    "    for i in n2:\n",
    "        if i % 2 == 0:\n",
    "            l.append(i) \n",
    "\n",
    "    return l             "
   ]
  },
  {
   "cell_type": "code",
   "execution_count": 149,
   "metadata": {},
   "outputs": [
    {
     "data": {
      "text/plain": [
       "[25, 35, 40, 60, 90]"
      ]
     },
     "execution_count": 149,
     "metadata": {},
     "output_type": "execute_result"
    }
   ],
   "source": [
    "list1 = [10, 20, 25, 30, 35]\n",
    "list2 = [40, 45, 60, 75, 90]\n",
    "odd_even(list1,list2)"
   ]
  },
  {
   "cell_type": "markdown",
   "metadata": {},
   "source": [
    "# **Done with Day - 4**"
   ]
  }
 ],
 "metadata": {
  "kernelspec": {
   "display_name": "Python 3.10.0 64-bit",
   "language": "python",
   "name": "python3"
  },
  "language_info": {
   "codemirror_mode": {
    "name": "ipython",
    "version": 3
   },
   "file_extension": ".py",
   "mimetype": "text/x-python",
   "name": "python",
   "nbconvert_exporter": "python",
   "pygments_lexer": "ipython3",
   "version": "3.10.0"
  },
  "orig_nbformat": 4,
  "vscode": {
   "interpreter": {
    "hash": "26de051ba29f2982a8de78e945f0abaf191376122a1563185a90213a26c5da77"
   }
  }
 },
 "nbformat": 4,
 "nbformat_minor": 2
}
