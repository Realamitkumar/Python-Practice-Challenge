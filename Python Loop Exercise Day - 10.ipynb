{
 "cells": [
  {
   "cell_type": "markdown",
   "metadata": {},
   "source": [
    "# **Python Loop Exercise ``Day - 10``**"
   ]
  },
  {
   "cell_type": "markdown",
   "metadata": {},
   "source": [
    "**Exercise 10:**\n",
    "- Use else block to display a message “Done” after successful execution of for loop\n",
    "\n",
    "\n",
    "For example, the following loop will execute without any error.\n",
    "\n",
    "- Given:\n",
    "\n",
    "- for i in range(5):\n",
    "-    print(i)\n",
    "\n",
    "**Expected output:**\n",
    "- 0\n",
    "- 1\n",
    "- 2\n",
    "- 3\n",
    "- 4\n",
    "- Done!"
   ]
  },
  {
   "cell_type": "code",
   "execution_count": 1,
   "metadata": {},
   "outputs": [
    {
     "name": "stdout",
     "output_type": "stream",
     "text": [
      "0\n",
      "1\n",
      "2\n",
      "3\n",
      "4\n",
      "Done!\n"
     ]
    }
   ],
   "source": [
    "# 1\n",
    "for i in range(5):\n",
    "    print(i)\n",
    "print(\"Done!\")"
   ]
  },
  {
   "cell_type": "code",
   "execution_count": 36,
   "metadata": {},
   "outputs": [
    {
     "name": "stdout",
     "output_type": "stream",
     "text": [
      "jhopadi(hut)\n"
     ]
    }
   ],
   "source": [
    "# 2\n",
    "\n",
    "for i in range(1,5,2): # try to go in house\n",
    "    \n",
    "    if (i % 2) ==0:\n",
    "        break\n",
    "    # ghar se nikal diya \n",
    "    # becoz, if statement not\n",
    "    # workout\n",
    "\n",
    "# then, else ne sahara diya \n",
    "# apne jhopadi mein\n",
    "else:\n",
    "    print(\"jhopadi(hut)\")"
   ]
  },
  {
   "cell_type": "markdown",
   "metadata": {},
   "source": [
    "# **``Important``**\n",
    "**Exercise 11:**\n",
    "- Write a program to display all prime numbers within a range\n",
    "\n",
    "**Note:** A Prime Number is a number that cannot be made by multiplying other whole numbers.\n",
    "- A prime number is a natural number greater than 1 that is not a product of two smaller natural numbers\n",
    "\n",
    "``Examples:``\n",
    "\n",
    "6 is not a prime number because it can be made by 2×3 = 6\n",
    "\n",
    "\n",
    "37 is a prime number because no other whole numbers multiply together to make it.\n",
    "Given:\n",
    "\n",
    "---> range\n",
    "\n",
    "- start = 25\n",
    "- end = 50\n",
    "\n",
    "\n",
    "**``Expected output:``**\n",
    "\n",
    "Prime numbers between 25 and 50 are:\n",
    "- 29\n",
    "- 31\n",
    "- 37\n",
    "- 41\n",
    "- 43\n",
    "- 47"
   ]
  },
  {
   "cell_type": "code",
   "execution_count": 19,
   "metadata": {},
   "outputs": [
    {
     "name": "stdout",
     "output_type": "stream",
     "text": [
      "29\n",
      "31\n",
      "37\n",
      "41\n",
      "43\n",
      "47\n"
     ]
    }
   ],
   "source": [
    "# my solution\n",
    "s = 25\n",
    "stop = 50\n",
    "\n",
    "for number in range(s,stop+1):\n",
    "    if number > 1: # becoz prime no. can 't be 1 \n",
    "\n",
    "\n",
    "        # for - else \n",
    "        # visualize in python tutor \n",
    "        # highly recommended\n",
    "        for i in range(2,number):\n",
    "            if (number % i) == 0:\n",
    "                #not prime it's even or odd\n",
    "                break\n",
    "        \n",
    "        else:\n",
    "            print(number)"
   ]
  },
  {
   "cell_type": "code",
   "execution_count": 21,
   "metadata": {},
   "outputs": [
    {
     "name": "stdout",
     "output_type": "stream",
     "text": [
      "Prime numbers between 25 and 50 are:\n",
      "29\n",
      "31\n",
      "37\n",
      "41\n",
      "43\n",
      "47\n"
     ]
    }
   ],
   "source": [
    "# web solution\n",
    "start = 25\n",
    "end = 50\n",
    "print(\"Prime numbers between\", start, \"and\", end, \"are:\")\n",
    "\n",
    "for num in range(start, end + 1):\n",
    "    # all prime numbers are greater than 1\n",
    "    # if number is less than or equal to 1, it is not prime\n",
    "    if num > 1:\n",
    "        for i in range(2, num):\n",
    "            # check for factors\n",
    "            if (num % i) == 0:\n",
    "                # not a prime number so break inner loop and\n",
    "                # look for next number\n",
    "                break\n",
    "        else:\n",
    "            print(num)"
   ]
  },
  {
   "cell_type": "markdown",
   "metadata": {},
   "source": [
    "# Fibonacci\n",
    "**Exercise 12:** \n",
    "- Display Fibonacci series up to 10 terms\n",
    "- The Fibonacci Sequence is a series of numbers.\n",
    "- The next number is found by adding up the two numbers before it.\n",
    "- The first two numbers are 0 and 1.\n",
    "\n",
    "For example, 0, 1, 1, 2, 3, 5, 8, 13, 21.\n",
    "- The next number in this series above is 13+21 = 34.\n",
    "\n",
    "***``Expected output:``***\n",
    "\n",
    "Fibonacci sequence:\n",
    "0  1  1  2  3  5  8  13  21  34"
   ]
  },
  {
   "cell_type": "code",
   "execution_count": 103,
   "metadata": {},
   "outputs": [
    {
     "name": "stdout",
     "output_type": "stream",
     "text": [
      "1\n",
      "2\n",
      "3\n",
      "5\n",
      "8\n",
      "13\n",
      "21\n",
      "34\n",
      "55\n",
      "89\n"
     ]
    }
   ],
   "source": [
    "# The Fibonacci Sequence is a series of numbers.\n",
    "# & next number is found by adding up the two numbers before it.\n",
    "\n",
    "# 1st Approach By Using ``for-loop``\n",
    "# to get next (current_num + previous_num)\n",
    "num1 = 0\n",
    "num2 = 1\n",
    "\n",
    "# traversing the loop  10 times \n",
    "# so that my operation will be\n",
    "#  getting executed 10 times\n",
    "for i in range(10):\n",
    "    \n",
    "    # addition\n",
    "    result = num1 + num2\n",
    "    print(result)\n",
    "\n",
    "    #updating to add further\n",
    "    num1 = num2\n",
    "    num2 = result"
   ]
  },
  {
   "cell_type": "code",
   "execution_count": 104,
   "metadata": {},
   "outputs": [
    {
     "name": "stdout",
     "output_type": "stream",
     "text": [
      "1\n",
      "2\n",
      "3\n",
      "5\n",
      "8\n",
      "13\n",
      "21\n",
      "34\n",
      "55\n",
      "89\n"
     ]
    }
   ],
   "source": [
    "#2nd Approach By Function\n",
    "def fibonacci(num1,num2):\n",
    "    for i in range(10):\n",
    "            result = num1 + num2\n",
    "            print(result)\n",
    "\n",
    "            num1 = num2\n",
    "            num2 = result\n",
    "\n",
    "fibonacci(0,1)            "
   ]
  },
  {
   "cell_type": "markdown",
   "metadata": {},
   "source": [
    "# **Done with ``10 th`` day**\n",
    "\n",
    "- Total number of questions till this date **``06-12-2022``**\n",
    "- 30 Questions"
   ]
  }
 ],
 "metadata": {
  "kernelspec": {
   "display_name": "Python 3.8.8 ('base')",
   "language": "python",
   "name": "python3"
  },
  "language_info": {
   "codemirror_mode": {
    "name": "ipython",
    "version": 3
   },
   "file_extension": ".py",
   "mimetype": "text/x-python",
   "name": "python",
   "nbconvert_exporter": "python",
   "pygments_lexer": "ipython3",
   "version": "3.8.8"
  },
  "orig_nbformat": 4,
  "vscode": {
   "interpreter": {
    "hash": "ad2bdc8ecc057115af97d19610ffacc2b4e99fae6737bb82f5d7fb13d2f2c186"
   }
  }
 },
 "nbformat": 4,
 "nbformat_minor": 2
}
