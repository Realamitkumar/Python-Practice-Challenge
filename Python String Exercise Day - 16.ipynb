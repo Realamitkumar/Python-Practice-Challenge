{
 "cells": [
  {
   "attachments": {},
   "cell_type": "markdown",
   "metadata": {},
   "source": [
    "# **Python String Exercise ``Day - 16``**"
   ]
  },
  {
   "attachments": {},
   "cell_type": "markdown",
   "metadata": {},
   "source": [
    "**Exercise 12:**\n",
    "- Find the last position of a given substring\n",
    "- Write a program to find the last position of a \n",
    "- substring “Emma” in a given string."
   ]
  },
  {
   "attachments": {},
   "cell_type": "markdown",
   "metadata": {},
   "source": [
    "**``rfind()``**\n",
    "- to find ***``last occurence``*** of any specific string value "
   ]
  },
  {
   "cell_type": "code",
   "execution_count": 9,
   "metadata": {},
   "outputs": [
    {
     "name": "stdout",
     "output_type": "stream",
     "text": [
      "Last occurrence of Emma starts at index 43\n"
     ]
    }
   ],
   "source": [
    "str1 = \"Emma is a data scientist who knows Python. Emma works at google.\"\n",
    "last = str1.rfind(\"Emma\")\n",
    "print(\"Last occurrence of Emma starts at index {}\".format(last))"
   ]
  },
  {
   "attachments": {},
   "cell_type": "markdown",
   "metadata": {},
   "source": [
    "**Exercise 13:** \n",
    "- Split a string on hyphens\n",
    "- Write a program to split a given string on\n",
    "- hyphens and display each substring.\n"
   ]
  },
  {
   "cell_type": "code",
   "execution_count": 17,
   "metadata": {},
   "outputs": [
    {
     "name": "stdout",
     "output_type": "stream",
     "text": [
      "Original string  is : Emma-is-a-data-scientist\n",
      "Splitted string on hyphen separator are ['Emma', 'is', 'a', 'data', 'scientist']\n"
     ]
    }
   ],
   "source": [
    "str1 = \"Emma-is-a-data-scientist\"\n",
    "print(\"Original string  is : {}\".format(str1))\n",
    "\n",
    "print(\"Splitted string on hyphen separator are {}\".format(str1.split(\"-\")))"
   ]
  },
  {
   "cell_type": "code",
   "execution_count": 21,
   "metadata": {},
   "outputs": [
    {
     "name": "stdout",
     "output_type": "stream",
     "text": [
      "['Emma', 'is', 'a', 'data', 'scientist']\n"
     ]
    }
   ],
   "source": [
    "# or using for loop\n",
    "st = str1.split(\"-\")\n",
    "\n",
    "\n",
    "l = []\n",
    "for i in st:\n",
    "    l.append(i)\n",
    "print(l)"
   ]
  },
  {
   "attachments": {},
   "cell_type": "markdown",
   "metadata": {},
   "source": [
    "**Exercise 14:** \n",
    "- Remove empty strings from a list of strings"
   ]
  },
  {
   "cell_type": "code",
   "execution_count": 35,
   "metadata": {},
   "outputs": [
    {
     "name": "stdout",
     "output_type": "stream",
     "text": [
      "Output is : ['Emma', 'Jon', 'Kelly', None, 'Eric']\n"
     ]
    }
   ],
   "source": [
    "#first approach\n",
    "\n",
    "str_list = [\"Emma\", \"Jon\", \"\", \"Kelly\", None, \"Eric\", \"\"]\n",
    "\n",
    "l = []\n",
    "l_ = []\n",
    "\n",
    "for i in str_list:\n",
    "    if i == \"\":\n",
    "        l.append(i)\n",
    "    else:\n",
    "        l_.append(i)    \n",
    "\n",
    "print(\"Output is : {}\".format(l_))"
   ]
  },
  {
   "cell_type": "code",
   "execution_count": 46,
   "metadata": {},
   "outputs": [
    {
     "name": "stdout",
     "output_type": "stream",
     "text": [
      "Output is : ['Emma', 'Jon', 'Kelly', 'Eric']\n"
     ]
    }
   ],
   "source": [
    "# 2nd approach\n",
    "# using built in function that is filter()\n",
    "\n",
    "str_list = [\"Emma\", \"Jon\", \"\", \"Kelly\", None, \"Eric\", \"\"]\n",
    "\n",
    "# filtered on the basis of ``None``\n",
    "filtered_list = list(filter(None,str_list))\n",
    "\n",
    "print(\"Output is : {}\".format(filtered_list))"
   ]
  }
 ],
 "metadata": {
  "kernelspec": {
   "display_name": "Python 3",
   "language": "python",
   "name": "python3"
  },
  "language_info": {
   "codemirror_mode": {
    "name": "ipython",
    "version": 3
   },
   "file_extension": ".py",
   "mimetype": "text/x-python",
   "name": "python",
   "nbconvert_exporter": "python",
   "pygments_lexer": "ipython3",
   "version": "3.10.0"
  },
  "orig_nbformat": 4,
  "vscode": {
   "interpreter": {
    "hash": "26de051ba29f2982a8de78e945f0abaf191376122a1563185a90213a26c5da77"
   }
  }
 },
 "nbformat": 4,
 "nbformat_minor": 2
}
