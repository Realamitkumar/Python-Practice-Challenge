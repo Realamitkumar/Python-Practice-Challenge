{
 "cells": [
  {
   "cell_type": "markdown",
   "metadata": {},
   "source": [
    "# **Python Loop Exercise ``Day - 9``**"
   ]
  },
  {
   "cell_type": "markdown",
   "metadata": {},
   "source": [
    "**Exercise 7:** Print the following pattern\n",
    "Write a program to use for loop to print the following reverse number pattern\n",
    "\n",
    "- 5 4 3 2 1 \n",
    "- 4 3 2 1 \n",
    "- 3 2 1 \n",
    "- 2 1 \n",
    "- 1"
   ]
  },
  {
   "cell_type": "markdown",
   "metadata": {},
   "source": [
    "- **``Visualize in Python Tutor``**\n",
    "- Highly Recommended"
   ]
  },
  {
   "cell_type": "code",
   "execution_count": 21,
   "metadata": {},
   "outputs": [
    {
     "name": "stdout",
     "output_type": "stream",
     "text": [
      "5 4 3 2 1 \n",
      "4 3 2 1 \n",
      "3 2 1 \n",
      "2 1 \n",
      "1 \n"
     ]
    }
   ],
   "source": [
    "for i in range(6,1,-1):\n",
    "    for j in range(i-1, 0, -1):\n",
    "        print(j, end=' ')\n",
    "    print(\"\")"
   ]
  },
  {
   "cell_type": "markdown",
   "metadata": {},
   "source": [
    "**Exercise 8:** Print list in reverse order using a loop\n",
    "Given:\n",
    "\n",
    "\n",
    "list1 = [10, 20, 30, 40, 50]\n",
    "\n",
    "**Expected**\n",
    "- 50\n",
    "- 40\n",
    "- 30\n",
    "- 20\n",
    "- 10"
   ]
  },
  {
   "cell_type": "code",
   "execution_count": 65,
   "metadata": {},
   "outputs": [
    {
     "name": "stdout",
     "output_type": "stream",
     "text": [
      "50\n",
      "40\n",
      "30\n",
      "20\n",
      "10\n"
     ]
    }
   ],
   "source": [
    "#Approach - 1\n",
    "#using built in function that is reversed\n",
    "for i in reversed(list1):\n",
    "    print(i)"
   ]
  },
  {
   "cell_type": "code",
   "execution_count": 121,
   "metadata": {},
   "outputs": [
    {
     "name": "stdout",
     "output_type": "stream",
     "text": [
      "50\n",
      "40\n",
      "30\n",
      "20\n",
      "10\n"
     ]
    }
   ],
   "source": [
    "#Approach - 2\n",
    "# Optimized Solution\n",
    "list1 = [10, 20, 30, 40, 50]\n",
    "for i in range(len(list1)-1,-1,-1):\n",
    "    print(list1[i])"
   ]
  },
  {
   "cell_type": "code",
   "execution_count": 122,
   "metadata": {},
   "outputs": [
    {
     "name": "stdout",
     "output_type": "stream",
     "text": [
      "50\n",
      "40\n",
      "30\n",
      "20\n",
      "10\n"
     ]
    }
   ],
   "source": [
    "# Web Solution\n",
    "\n",
    "list1 = [10, 20, 30, 40, 50]\n",
    "# get list size\n",
    "# len(list1) -1: because index start with 0\n",
    "# iterate list in reverse order\n",
    "# star from last item to first\n",
    "size = len(list1) - 1\n",
    "for i in range(size, -1, -1):\n",
    "    print(list1[i])"
   ]
  },
  {
   "cell_type": "markdown",
   "metadata": {},
   "source": [
    "**Exercise 9:**\n",
    "- Display numbers from -10 to -1 using for loop\n",
    "\n",
    "**``Expected output:``**\n",
    "\n",
    "- -10\n",
    "- -9\n",
    "- -8\n",
    "- -7\n",
    "- -6\n",
    "- -5\n",
    "- -4\n",
    "- -3\n",
    "- -2\n",
    "- -1"
   ]
  },
  {
   "cell_type": "code",
   "execution_count": 134,
   "metadata": {},
   "outputs": [
    {
     "name": "stdout",
     "output_type": "stream",
     "text": [
      "-10\n",
      "-9\n",
      "-8\n",
      "-7\n",
      "-6\n",
      "-5\n",
      "-4\n",
      "-3\n",
      "-2\n",
      "-1\n"
     ]
    }
   ],
   "source": [
    "for i in range(-10,0,1):\n",
    "    print(i)"
   ]
  },
  {
   "cell_type": "code",
   "execution_count": 163,
   "metadata": {},
   "outputs": [
    {
     "name": "stdout",
     "output_type": "stream",
     "text": [
      "Prime numbers between 25 and 50 are:\n",
      "29\n",
      "31\n",
      "37\n",
      "41\n",
      "43\n",
      "47\n"
     ]
    }
   ],
   "source": [
    "start = 25\n",
    "end = 50\n",
    "print(\"Prime numbers between\", start, \"and\", end, \"are:\")\n",
    "\n",
    "for num in range(start, end + 1):\n",
    "    # all prime numbers are greater than 1\n",
    "    # if number is less than or equal to 1, it is not prime\n",
    "    if num > 1:\n",
    "        for i in range(2, num):\n",
    "            # check for factors\n",
    "            if (num % i) == 0:\n",
    "                # not a prime number so break inner loop and\n",
    "                # look for next number\n",
    "                break\n",
    "        else:\n",
    "            print(num)"
   ]
  },
  {
   "cell_type": "markdown",
   "metadata": {},
   "source": [
    "# **Done with ``9th`` day**"
   ]
  }
 ],
 "metadata": {
  "kernelspec": {
   "display_name": "Python 3.8.8 ('base')",
   "language": "python",
   "name": "python3"
  },
  "language_info": {
   "codemirror_mode": {
    "name": "ipython",
    "version": 3
   },
   "file_extension": ".py",
   "mimetype": "text/x-python",
   "name": "python",
   "nbconvert_exporter": "python",
   "pygments_lexer": "ipython3",
   "version": "3.8.8"
  },
  "orig_nbformat": 4,
  "vscode": {
   "interpreter": {
    "hash": "ad2bdc8ecc057115af97d19610ffacc2b4e99fae6737bb82f5d7fb13d2f2c186"
   }
  }
 },
 "nbformat": 4,
 "nbformat_minor": 2
}
