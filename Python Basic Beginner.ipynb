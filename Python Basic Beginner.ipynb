{
 "cells": [
  {
   "cell_type": "markdown",
   "metadata": {},
   "source": [
    "# Python Basic Exercise for Beginners\n",
    "\n",
    "This Python essential exercise is to help Python beginners to learn necessary Python skills quickly.\n",
    "\n",
    " Practice Python basic concepts such as\n",
    " **``loops, control flow, data types, operators, list, strings, input-output, and built-in functions.``**"
   ]
  },
  {
   "cell_type": "markdown",
   "metadata": {},
   "source": [
    "**Exercise 1:**\n",
    "\n",
    "- Calculate the multiplication and sum of two numbers\n",
    "- Given two integer numbers return their\n",
    "- product only if the product is equal to or lower than 1000, else \n",
    "- return their sum."
   ]
  },
  {
   "cell_type": "code",
   "execution_count": 10,
   "metadata": {},
   "outputs": [
    {
     "name": "stdout",
     "output_type": "stream",
     "text": [
      "The product of two integer numbers is 46\n"
     ]
    }
   ],
   "source": [
    "#1st method\n",
    "n1 = int(input(\"Enter First Integer \\n:\"))\n",
    "n2 = int(input(\"Enter Second Integer \\n:\"))\n",
    "product = n1*n2\n",
    "if product<=1000:\n",
    "    print(\"The product of two integer numbers is {}\".format(product))\n",
    "else:\n",
    "    result_sum = n1+n2\n",
    "    print(\"The sum of two integer numbers is {}\".format(result_sum))   "
   ]
  },
  {
   "cell_type": "code",
   "execution_count": 12,
   "metadata": {},
   "outputs": [],
   "source": [
    "#2nd method (Function)\n",
    "def multiplication(n1,n2):\n",
    "    product = n1*n2\n",
    "    if product <= 1000:\n",
    "        print(\"The product of two integer numbers is {}\".format(product))\n",
    "    else:\n",
    "        result_sum = n1+n2\n",
    "        print(\"The sum of two integer numbers is {}\".format(result_sum))   "
   ]
  },
  {
   "cell_type": "code",
   "execution_count": 15,
   "metadata": {},
   "outputs": [
    {
     "name": "stdout",
     "output_type": "stream",
     "text": [
      "The sum of two integer numbers is 1010\n"
     ]
    }
   ],
   "source": [
    "multiplication(1000,10)"
   ]
  },
  {
   "cell_type": "markdown",
   "metadata": {},
   "source": [
    "**Exercise 2:**\n",
    "- Print the sum of the current number and\n",
    "- the previous number\n",
    "- Write a program to iterate the first 10 numbers and in each iteration,\n",
    "- print the sum of the current and previous number."
   ]
  },
  {
   "cell_type": "code",
   "execution_count": 26,
   "metadata": {},
   "outputs": [
    {
     "name": "stdout",
     "output_type": "stream",
     "text": [
      "The sum is 1 \n",
      "The sum is 3 \n",
      "The sum is 5 \n",
      "The sum is 7 \n",
      "The sum is 9 \n",
      "The sum is 11 \n",
      "The sum is 13 \n",
      "The sum is 15 \n",
      "The sum is 17 \n",
      "The sum is 19 \n"
     ]
    }
   ],
   "source": [
    "previous_num = 0 \n",
    "for i in range(1,11):\n",
    "    result_sum = previous_num + i\n",
    "    previous_num = i #set previous_num as current number\n",
    "    print(\"The sum is {} \".format(result_sum))"
   ]
  },
  {
   "cell_type": "markdown",
   "metadata": {},
   "source": [
    "**Exercise 3:**\n",
    "- Print characters from a string that are present at an even index number\n",
    "\n",
    "  Write a program to accept a string from the user and display characters\n",
    "  that are present at an even index number.\n",
    "\n",
    "  For example, str = \"pynative\" so you should display ‘p’, ‘n’, ‘t’, ‘v’."
   ]
  },
  {
   "cell_type": "code",
   "execution_count": 75,
   "metadata": {},
   "outputs": [
    {
     "data": {
      "text/plain": [
       "['p', 'n', 't', 'v']"
      ]
     },
     "execution_count": 75,
     "metadata": {},
     "output_type": "execute_result"
    }
   ],
   "source": [
    "a = \"pynative\"\n",
    "l = []\n",
    "for i in a:\n",
    "    s = a.index(i)\n",
    "    if s % 2 == 0:\n",
    "        l.append(i)\n",
    "#\n",
    "l"
   ]
  }
 ],
 "metadata": {
  "kernelspec": {
   "display_name": "Python 3.8.8 ('base')",
   "language": "python",
   "name": "python3"
  },
  "language_info": {
   "codemirror_mode": {
    "name": "ipython",
    "version": 3
   },
   "file_extension": ".py",
   "mimetype": "text/x-python",
   "name": "python",
   "nbconvert_exporter": "python",
   "pygments_lexer": "ipython3",
   "version": "3.8.8"
  },
  "orig_nbformat": 4,
  "vscode": {
   "interpreter": {
    "hash": "ad2bdc8ecc057115af97d19610ffacc2b4e99fae6737bb82f5d7fb13d2f2c186"
   }
  }
 },
 "nbformat": 4,
 "nbformat_minor": 2
}
