{
 "cells": [
  {
   "cell_type": "markdown",
   "metadata": {},
   "source": [
    "# Python Beginner Day - 6"
   ]
  },
  {
   "cell_type": "markdown",
   "metadata": {},
   "source": [
    "**Exercise 15:** \n",
    "- Write a function called exponent(base, exp) that returns an int value of base raises to the power of exp.\n",
    "Note here exp is a non-negative integer, and the base is an integer."
   ]
  },
  {
   "cell_type": "markdown",
   "metadata": {},
   "source": [
    "- base = 2\n",
    "- exponent = 5\n",
    "\n",
    "2 raises to the power of 5: 32 i.e. (2 *2 * 2 *2 *2 = 32)"
   ]
  },
  {
   "cell_type": "code",
   "execution_count": 13,
   "metadata": {},
   "outputs": [],
   "source": [
    "def expo(base,exp):\n",
    "    result = base**exp\n",
    "    return result"
   ]
  },
  {
   "cell_type": "code",
   "execution_count": 16,
   "metadata": {},
   "outputs": [
    {
     "data": {
      "text/plain": [
       "625"
      ]
     },
     "execution_count": 16,
     "metadata": {},
     "output_type": "execute_result"
    }
   ],
   "source": [
    "expo(5,4)"
   ]
  },
  {
   "cell_type": "code",
   "execution_count": 17,
   "metadata": {},
   "outputs": [
    {
     "name": "stdout",
     "output_type": "stream",
     "text": [
      "5 raises to the power of 4 is:  625\n"
     ]
    }
   ],
   "source": [
    "# or \n",
    "def exponent(base, exp):\n",
    "    num = exp\n",
    "    result = 1\n",
    "    while num > 0:\n",
    "        result = result * base\n",
    "        num = num - 1\n",
    "    print(base, \"raises to the power of\", exp, \"is: \", result)\n",
    "\n",
    "exponent(5, 4)"
   ]
  },
  {
   "cell_type": "code",
   "execution_count": 26,
   "metadata": {},
   "outputs": [],
   "source": [
    "def expo(base,exp):\n",
    "    num = exp\n",
    "    result = 1\n",
    "    while num>0: #as soon as greater than 0\n",
    "        result = result * base\n",
    "        num = num - 1\n",
    "    print(base,\"raises to the power of\",exp,\"is:\",result)    "
   ]
  },
  {
   "cell_type": "code",
   "execution_count": 27,
   "metadata": {},
   "outputs": [
    {
     "name": "stdout",
     "output_type": "stream",
     "text": [
      "5 raises to the power of 4 is: 625\n"
     ]
    }
   ],
   "source": [
    "expo(5,4)"
   ]
  },
  {
   "cell_type": "markdown",
   "metadata": {},
   "source": [
    "# Done With Day - 6"
   ]
  }
 ],
 "metadata": {
  "kernelspec": {
   "display_name": "Python 3.10.0 64-bit",
   "language": "python",
   "name": "python3"
  },
  "language_info": {
   "codemirror_mode": {
    "name": "ipython",
    "version": 3
   },
   "file_extension": ".py",
   "mimetype": "text/x-python",
   "name": "python",
   "nbconvert_exporter": "python",
   "pygments_lexer": "ipython3",
   "version": "3.10.0"
  },
  "orig_nbformat": 4,
  "vscode": {
   "interpreter": {
    "hash": "26de051ba29f2982a8de78e945f0abaf191376122a1563185a90213a26c5da77"
   }
  }
 },
 "nbformat": 4,
 "nbformat_minor": 2
}
