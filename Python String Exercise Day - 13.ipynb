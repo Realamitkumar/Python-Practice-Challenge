{
 "cells": [
  {
   "cell_type": "markdown",
   "metadata": {},
   "source": [
    "# **Python String Exercise** with Solutions"
   ]
  },
  {
   "cell_type": "markdown",
   "metadata": {},
   "source": [
    "**Exercise 1A:**\n",
    "- Create a string made of the first, middle and last character\n",
    "- Write a program to create a new string made of an input string’s first, middle, and last character"
   ]
  },
  {
   "cell_type": "code",
   "execution_count": 30,
   "metadata": {},
   "outputs": [
    {
     "name": "stdout",
     "output_type": "stream",
     "text": [
      "SUMMARY OF GIVEN THINGS\n",
      "------------------------------------------------------------\n",
      "first character is J\n",
      "string size or length is 5\n",
      "middle character is m \n",
      "last character is s \n",
      "------------------------------------------------------------\n",
      "Final Output Would be this Jms\n"
     ]
    }
   ],
   "source": [
    "#main character\n",
    "main = \"James\"\n",
    "\n",
    "#get first character\n",
    "first = main[0]\n",
    "\n",
    "#get string size or length \n",
    "l = len(main)\n",
    "\n",
    "#get middle character\n",
    "mid = int(l/2)\n",
    "\n",
    "#get last character\n",
    "capping_end = len(main)-1\n",
    "\n",
    "#getting ``middle`` character and add it to the ``first`` character\n",
    "result = first + main[mid] + main[capping_end]\n",
    "\n",
    "#Summary Of given stuffs \n",
    "print(\"SUMMARY OF GIVEN THINGS\")\n",
    "print(\"--\"*30)\n",
    "print(\"first character is {}\".format(first))\n",
    "print(\"string size or length is {}\".format(l))\n",
    "print(\"middle character is {} \".format(main[mid]))\n",
    "print(\"last character is {} \".format(main[capping_end]))\n",
    "\n",
    "print(\"--\"*30)\n",
    "print(\"Final Output Would be this {}\".format(result))"
   ]
  },
  {
   "cell_type": "markdown",
   "metadata": {},
   "source": [
    "**Exercise 1B:**\n",
    "- Create a string made of the middle three characters\n",
    "- Write a program to create a new string made of the middle three characters of an input string."
   ]
  },
  {
   "cell_type": "code",
   "execution_count": 56,
   "metadata": {},
   "outputs": [
    {
     "name": "stdout",
     "output_type": "stream",
     "text": [
      "character is : JaSonAy\n",
      "length of character is : 7\n",
      "middle 3 characters of JaSonAy are : Son\n"
     ]
    }
   ],
   "source": [
    "character = input(\"Enter the character here \")\n",
    "\n",
    "l = len(character) #len or size of character\n",
    "m  = int(l/2) # middle characs -1st\n",
    "getting = character[m-1:] # middle characs -2nd\n",
    "mid_3 = getting[0:3]  # middle 3 characters -3rd\n",
    "\n",
    "print(\"character is : {}\".format(character))\n",
    "print(\"length of character is : {}\".format(l))\n",
    "print(\"middle 3 characters of {} are : {}\".format(character,mid_3))"
   ]
  },
  {
   "cell_type": "code",
   "execution_count": 68,
   "metadata": {},
   "outputs": [
    {
     "name": "stdout",
     "output_type": "stream",
     "text": [
      "Middle 3 characters are : Son\n",
      "Middle 3 characters are : Dip\n"
     ]
    }
   ],
   "source": [
    "# optimized solution\n",
    "def mid_3(character):\n",
    "    l = int(len(character)/2) # len of character\n",
    "    result_mid_3 = character[l-1:l + 2] #final outcome or result\n",
    "    return \"Middle 3 characters are : {}\".format(result_mid_3)\n",
    "\n",
    "print(mid_3(\"JaSonay\"))\n",
    "print(mid_3(\"JhonDipPeta\"))"
   ]
  },
  {
   "cell_type": "markdown",
   "metadata": {},
   "source": [
    "**Exercise 2:**\n",
    "- Append new string in the middle of a given string\n",
    "- Given two strings, s1 and s2. Write a program to create a new string s3 by appending s2 in the middle of s1."
   ]
  },
  {
   "cell_type": "code",
   "execution_count": 68,
   "metadata": {},
   "outputs": [
    {
     "data": {
      "text/plain": [
       "'AuKellylt'"
      ]
     },
     "execution_count": 68,
     "metadata": {},
     "output_type": "execute_result"
    }
   ],
   "source": [
    "def appending(s1,s3):\n",
    "    m = int(len(s1)/2)\n",
    "    # getting value till middle index\n",
    "    val_till_mid = s1[:m:]\n",
    "    # appending second string i.e., s2 to s1\n",
    "    appending_string_2 =  val_till_mid + s2\n",
    "    # appending remaining s1 values at last in new appended\n",
    "    # string\n",
    "    s3 = appending_string_2 + s1[m:]\n",
    "    return s3\n",
    "\n",
    "#testing\n",
    "s1 = \"Ault\"\n",
    "s2 = \"Kelly\"\n",
    "appending(s1,s2)    "
   ]
  },
  {
   "cell_type": "markdown",
   "metadata": {},
   "source": [
    "**Exercise 3:**\n",
    "- Create a new string made of the first, middle, and last characters of each input string\n",
    "- Given two strings, s1 and s2, write a program to return a new string made of s1 and s2’s first, middle, and last characters."
   ]
  },
  {
   "cell_type": "code",
   "execution_count": 84,
   "metadata": {},
   "outputs": [
    {
     "data": {
      "text/plain": [
       "'AJrpan'"
      ]
     },
     "execution_count": 84,
     "metadata": {},
     "output_type": "execute_result"
    }
   ],
   "source": [
    "def new_string(s1,s2):\n",
    "\n",
    "    #first characters of both the string\n",
    "    first_character = s1[0] + s2[0]\n",
    "\n",
    "    #middle characters \n",
    "    middle_characters = s1[int(len(s1)/2):int(len(s1)/2)+1] + s2[int(len(s2)/2):int(len(s2)/2)+1]\n",
    "\n",
    "    #last characters\n",
    "    last_characters = s1[len(s1)-1] + s2[len(s2)-1]\n",
    "\n",
    "\n",
    "    #final output\n",
    "    final = first_character + middle_characters + last_characters\n",
    "\n",
    "    return final\n",
    "\n",
    "#testing\n",
    "s1 = \"America\"\n",
    "s2 = \"Japan\"\n",
    "new_string(s1,s2)"
   ]
  },
  {
   "cell_type": "markdown",
   "metadata": {},
   "source": [
    "From here ``4Questions/day`` series has started\n",
    "\n",
    "# ***14-12-2022***\n",
    "# Done With Today \n",
    "# **4 questions**"
   ]
  }
 ],
 "metadata": {
  "kernelspec": {
   "display_name": "Python 3.8.8 ('base')",
   "language": "python",
   "name": "python3"
  },
  "language_info": {
   "codemirror_mode": {
    "name": "ipython",
    "version": 3
   },
   "file_extension": ".py",
   "mimetype": "text/x-python",
   "name": "python",
   "nbconvert_exporter": "python",
   "pygments_lexer": "ipython3",
   "version": "3.8.8"
  },
  "orig_nbformat": 4,
  "vscode": {
   "interpreter": {
    "hash": "ad2bdc8ecc057115af97d19610ffacc2b4e99fae6737bb82f5d7fb13d2f2c186"
   }
  }
 },
 "nbformat": 4,
 "nbformat_minor": 2
}
