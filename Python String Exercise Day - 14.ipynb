{
 "cells": [
  {
   "attachments": {},
   "cell_type": "markdown",
   "metadata": {},
   "source": [
    "# **Python String Exercise Day - 14**"
   ]
  },
  {
   "attachments": {},
   "cell_type": "markdown",
   "metadata": {},
   "source": [
    "**Exercise 4:**\n",
    "- Arrange string characters such that lowercase letters should come first\n",
    "- Given string contains a combination of the lower and upper case letters. \n",
    "- Write a program to arrange the characters of a string so that all lowercase letters should come first.\n",
    "\n",
    "**Given:**\n",
    "\n",
    "- str1 = PyNaTive\n",
    "\n",
    "- ***Expected Output:***\n",
    "\n",
    "\n",
    "yaivePNT"
   ]
  },
  {
   "cell_type": "code",
   "execution_count": 17,
   "metadata": {},
   "outputs": [
    {
     "name": "stdout",
     "output_type": "stream",
     "text": [
      "Original String Value is : PyNaTive\n",
      "Resultant string is :  y a i v e P N T\n"
     ]
    }
   ],
   "source": [
    "# 1st approached with simple\n",
    "# for - loop and if - else condition\n",
    "\n",
    "str1 =\"PyNaTive\"\n",
    "\n",
    "print(\"Original String Value is :\",str1)\n",
    "# two empty list\n",
    "lower_case = []\n",
    "upper_case = []\n",
    "\n",
    "for char in str1:\n",
    "    if char.islower():\n",
    "        lower_case.append(char)\n",
    "\n",
    "    else:\n",
    "        upper_case.append(char)\n",
    "\n",
    "new_string = \" \".join(lower_case+upper_case) \n",
    "print(\"Resultant string is : \",new_string)       "
   ]
  },
  {
   "cell_type": "code",
   "execution_count": 22,
   "metadata": {},
   "outputs": [
    {
     "data": {
      "text/plain": [
       "'yaivePNT'"
      ]
     },
     "execution_count": 22,
     "metadata": {},
     "output_type": "execute_result"
    }
   ],
   "source": [
    "# 2nd approach with\n",
    "# function \n",
    "# more optimized\n",
    "\n",
    "def resultant_string(str1):\n",
    "    lo = []\n",
    "    up = []\n",
    "    for i in str1:\n",
    "        if i.islower():\n",
    "            lo.append(i)\n",
    "        else:\n",
    "            up.append(i)\n",
    "    return \"\".join(lo+up) \n",
    "\n",
    "# testing\n",
    "resultant_string(\"PyNaTive\")"
   ]
  },
  {
   "attachments": {},
   "cell_type": "markdown",
   "metadata": {},
   "source": [
    "# **Important**"
   ]
  },
  {
   "attachments": {},
   "cell_type": "markdown",
   "metadata": {},
   "source": [
    "**Exercise 5:**\n",
    "- Count all letters, digits, and special symbols from a given string\n",
    "\n",
    "- str1 = \"P@#yn26at^&i5ve\"\n",
    "\n",
    "- Total counts of chars, digits, and symbols \n",
    "\n",
    "- Chars = 8 \n",
    "- Digits = 3 \n",
    "- Symbol = 4"
   ]
  },
  {
   "attachments": {},
   "cell_type": "markdown",
   "metadata": {},
   "source": [
    "**Hints**\n",
    "- ``isalpha():`` To check if a string/character is an alphabet\n",
    "- ``isdigit():`` To check if a string/character is a digit."
   ]
  },
  {
   "cell_type": "code",
   "execution_count": 45,
   "metadata": {},
   "outputs": [
    {
     "name": "stdout",
     "output_type": "stream",
     "text": [
      "Characters: 8\n",
      "Digits: 3\n",
      "Symbols: 4\n"
     ]
    }
   ],
   "source": [
    "str1 = \"P@#yn26at^&i5ve\"\n",
    "str1.isdigit()\n",
    "\n",
    "characters_count = 0\n",
    "digits_count = 0\n",
    "symbols_count = 0\n",
    "\n",
    "for i in str1:\n",
    "    if i.isdigit(): # isdigit() - for digits\n",
    "        digits_count += 1\n",
    "\n",
    "    elif i.isalpha(): # isalpha() - for characters\n",
    "        characters_count += 1\n",
    "\n",
    "    else: # for special characters and symbols\n",
    "        symbols_count += 1\n",
    "\n",
    "# Outputs:\n",
    "print(\"Characters:\",characters_count)\n",
    "print(\"Digits:\",digits_count)\n",
    "print(\"Symbols:\",symbols_count)"
   ]
  },
  {
   "cell_type": "code",
   "execution_count": 46,
   "metadata": {},
   "outputs": [
    {
     "name": "stdout",
     "output_type": "stream",
     "text": [
      "length of n is : 4\n"
     ]
    }
   ],
   "source": [
    "# To understand count concept with\n",
    "# for loop \n",
    "\n",
    "n = \"Amit\"\n",
    "\n",
    "count = 0\n",
    "for i in range(len(n)):\n",
    "    count += 1\n",
    "print(\"length of n is :\",count)"
   ]
  },
  {
   "attachments": {},
   "cell_type": "markdown",
   "metadata": {},
   "source": [
    "**Exercise 6:**\n",
    "- Create a mixed String using the following rules\n",
    "\n",
    "- Given ``two strings``, **s1** and **s2**. \n",
    "- Write a program to create a new string s3 made of the first char of s1,\n",
    "-  then the last char of s2, Next, the second char of s1 and\n",
    "-  second last char of s2, and so on. Any leftover chars go at the end of the result\n",
    "\n",
    "- Given:\n",
    "\n",
    "- s1 = \"Abc\"\n",
    "- s2 = \"Xyz\"\n",
    "\n",
    "\n",
    "Expected Output:\n",
    "\n",
    "**AzbycX**"
   ]
  },
  {
   "cell_type": "code",
   "execution_count": 59,
   "metadata": {},
   "outputs": [
    {
     "name": "stdout",
     "output_type": "stream",
     "text": [
      "Output :  AzbycX\n"
     ]
    }
   ],
   "source": [
    "s1 = \"Abc\"\n",
    "s2 = \"Xyz\"\n",
    "\n",
    "#length of both string\n",
    "s1_length = len(s1)\n",
    "s2_length = len(s2)\n",
    "\n",
    "#check greatest length wala string here\n",
    "length = s1_length if s1_length > s2_length else s2_length\n",
    "result = \"\"\n",
    "\n",
    "s2 = s2[::-1] # second string gets reversed\n",
    "\n",
    "for i in range(length):\n",
    "    if i < s1_length :\n",
    "        result = result + s1[i]\n",
    "    if i < s2_length :\n",
    "        result = result + s2[i] \n",
    "\n",
    "print(\"Output : \",result)\n"
   ]
  },
  {
   "cell_type": "code",
   "execution_count": 2,
   "metadata": {},
   "outputs": [
    {
     "name": "stdout",
     "output_type": "stream",
     "text": [
      "AzbycX\n"
     ]
    }
   ],
   "source": [
    "# My Approach 1st \n",
    "s1 = \"Abc\"\n",
    "s2 = \"Xyz\"\n",
    "\n",
    "reverse = s2[::-1]\n",
    "s3 = []\n",
    "\n",
    "for i in range(len(s1)):\n",
    "    result = s1[i] \n",
    "    n = reverse[i]\n",
    "    new_str = result+n\n",
    "    s3.append(new_str)\n",
    "\n",
    "print(\"\".join(s3)) "
   ]
  },
  {
   "cell_type": "code",
   "execution_count": 3,
   "metadata": {},
   "outputs": [
    {
     "name": "stdout",
     "output_type": "stream",
     "text": [
      "AzbycX\n"
     ]
    }
   ],
   "source": [
    "# My Approach 2nd \n",
    "# more optimized \n",
    "\n",
    "def complex_code(s1,s2):\n",
    "    \n",
    "    reversed_s2 = s2[::-1]\n",
    "    s3 = []\n",
    "\n",
    "    for i in range(len(s1)):\n",
    "        s1_result = s1[i]\n",
    "        s2_result = reversed_s2[i]\n",
    "        s3.append(s1_result+s2_result)\n",
    "    print(\"\".join(s3))\n",
    "    \n",
    "#testing\n",
    "complex_code(\"Abc\",\"Xyz\")"
   ]
  },
  {
   "attachments": {},
   "cell_type": "markdown",
   "metadata": {},
   "source": [
    "**Exercise 7:**\n",
    "- String ``characters balance Test``\n",
    "\n",
    "- Write a program to check if two strings are balanced. \n",
    "- For example, strings s1 and s2 are balanced\n",
    "- if all the characters in the s1 are present in s2. The character’s position doesn’t matter."
   ]
  },
  {
   "cell_type": "code",
   "execution_count": 69,
   "metadata": {},
   "outputs": [
    {
     "name": "stdout",
     "output_type": "stream",
     "text": [
      "Not Balanced\n"
     ]
    }
   ],
   "source": [
    "def bornot(s1,s2):\n",
    "    if s1 == s2:\n",
    "        print(\"Balanced\")\n",
    "    else:\n",
    "        print(\"Not Balanced\") \n",
    "\n",
    "\n",
    "# Testing\n",
    "s1 = \"PYnativ\"\n",
    "s2 = \"PYnative\"\n",
    "\n",
    "bornot(s1,s2)"
   ]
  },
  {
   "attachments": {},
   "cell_type": "markdown",
   "metadata": {},
   "source": [
    "# Done ! \n",
    "\n",
    "**Dated**\n",
    "***15-12-2022***"
   ]
  }
 ],
 "metadata": {
  "kernelspec": {
   "display_name": "Python 3.10.0 64-bit",
   "language": "python",
   "name": "python3"
  },
  "language_info": {
   "codemirror_mode": {
    "name": "ipython",
    "version": 3
   },
   "file_extension": ".py",
   "mimetype": "text/x-python",
   "name": "python",
   "nbconvert_exporter": "python",
   "pygments_lexer": "ipython3",
   "version": "3.10.0"
  },
  "orig_nbformat": 4,
  "vscode": {
   "interpreter": {
    "hash": "26de051ba29f2982a8de78e945f0abaf191376122a1563185a90213a26c5da77"
   }
  }
 },
 "nbformat": 4,
 "nbformat_minor": 2
}
